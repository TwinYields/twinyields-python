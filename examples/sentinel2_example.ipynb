{
 "cells": [
  {
   "cell_type": "markdown",
   "metadata": {},
   "source": [
    "# Example of getting Sentinel2 data\n",
    "\n",
    "Example gets field information from database, retrieves Sentinel 2 images and calculates vegetation indices for each zone"
   ]
  },
  {
   "cell_type": "code",
   "execution_count": 1,
   "metadata": {
    "tags": []
   },
   "outputs": [],
   "source": [
    "import sys\n",
    "sys.path.append(\"..\")\n",
    "from twinyields.eo import Sentinel2\n",
    "from twinyields.database import TwinDataBase"
   ]
  },
  {
   "cell_type": "markdown",
   "metadata": {
    "jupyter": {
     "outputs_hidden": false
    },
    "pycharm": {
     "name": "#%%\n"
    }
   },
   "source": [
    "### Get field and zones"
   ]
  },
  {
   "cell_type": "code",
   "execution_count": 2,
   "metadata": {},
   "outputs": [
    {
     "data": {
      "text/plain": [
       "<AxesSubplot:>"
      ]
     },
     "execution_count": 2,
     "metadata": {},
     "output_type": "execute_result"
    },
    {
     "data": {
      "image/png": "[encoded data removed]",
      "text/plain": [
       "<Figure size 432x288 with 1 Axes>"
      ]
     },
     "metadata": {
      "needs_background": "light"
     },
     "output_type": "display_data"
    }
   ],
   "source": [
    "db = TwinDataBase()\n",
    "field, zones = db.get_field()\n",
    "zones.plot(column=\"zone\")"
   ]
  },
  {
   "cell_type": "markdown",
   "metadata": {},
   "source": [
    "### Download and process S2 data"
   ]
  },
  {
   "cell_type": "code",
   "execution_count": 3,
   "metadata": {},
   "outputs": [
    {
     "name": "stdout",
     "output_type": "stream",
     "text": [
      "Searching S2 data from 2022-06-15 to 2022-06-23 for area RVIII\n",
      "Found 6 available S2 acquisition dates.\n",
      "Retrieving S2 data...\n",
      "2 good observations available. Retrieving data...\n",
      "Retrieving band data for item S2B_34VFN_20220619_0_L2A\n",
      "Retrieving band data for item S2B_34VFN_20220616_0_L2A\n",
      "CPU times: total: 16.9 s\n",
      "Wall time: 1min 15s\n"
     ]
    }
   ],
   "source": [
    "%%time\n",
    "startdate = \"2022-06-15\"\n",
    "enddate = \"2022-06-23\"\n",
    "s2 = Sentinel2()\n",
    "# Get satellite data for whole field\n",
    "s2.get_data(field, startdate, enddate) "
   ]
  },
  {
   "cell_type": "code",
   "execution_count": 4,
   "metadata": {},
   "outputs": [
    {
     "name": "stdout",
     "output_type": "stream",
     "text": [
      "Processing zone0\n",
      "Processing zone1\n",
      "Processing zone2\n",
      "Processing zone3\n",
      "Processing zone4\n",
      "Processing zone5\n",
      "Processing zone6\n",
      "Processing zone7\n",
      "Processing zone8\n",
      "Processing zone9\n",
      "Processing zone10\n",
      "Processing zone11\n"
     ]
    }
   ],
   "source": [
    "# Extract zones\n",
    "s2.get_zones(zones)"
   ]
  },
  {
   "cell_type": "code",
   "execution_count": 10,
   "metadata": {},
   "outputs": [
    {
     "data": {
      "text/html": [
       "<div>\n",
       "<style scoped>\n",
       "    .dataframe tbody tr th:only-of-type {\n",
       "        vertical-align: middle;\n",
       "    }\n",
       "\n",
       "    .dataframe tbody tr th {\n",
       "        vertical-align: top;\n",
       "    }\n",
       "\n",
       "    .dataframe thead th {\n",
       "        text-align: right;\n",
       "    }\n",
       "</style>\n",
       "<table border=\"1\" class=\"dataframe\">\n",
       "  <thead>\n",
       "    <tr style=\"text-align: right;\">\n",
       "      <th></th>\n",
       "      <th>zone</th>\n",
       "      <th>field_name</th>\n",
       "      <th>time</th>\n",
       "      <th>LAI</th>\n",
       "      <th>FAPAR</th>\n",
       "      <th>NDVI</th>\n",
       "    </tr>\n",
       "  </thead>\n",
       "  <tbody>\n",
       "    <tr>\n",
       "      <th>0</th>\n",
       "      <td>zone0</td>\n",
       "      <td>RVIII</td>\n",
       "      <td>2022-06-16 09:50:39</td>\n",
       "      <td>0.805519</td>\n",
       "      <td>0.427770</td>\n",
       "      <td>0.479291</td>\n",
       "    </tr>\n",
       "    <tr>\n",
       "      <th>1</th>\n",
       "      <td>zone0</td>\n",
       "      <td>RVIII</td>\n",
       "      <td>2022-06-19 10:00:29</td>\n",
       "      <td>1.489500</td>\n",
       "      <td>0.592080</td>\n",
       "      <td>0.685660</td>\n",
       "    </tr>\n",
       "    <tr>\n",
       "      <th>0</th>\n",
       "      <td>zone1</td>\n",
       "      <td>RVIII</td>\n",
       "      <td>2022-06-16 09:50:39</td>\n",
       "      <td>1.255927</td>\n",
       "      <td>0.533719</td>\n",
       "      <td>0.628092</td>\n",
       "    </tr>\n",
       "    <tr>\n",
       "      <th>1</th>\n",
       "      <td>zone1</td>\n",
       "      <td>RVIII</td>\n",
       "      <td>2022-06-19 10:00:29</td>\n",
       "      <td>2.022422</td>\n",
       "      <td>0.676885</td>\n",
       "      <td>0.800882</td>\n",
       "    </tr>\n",
       "    <tr>\n",
       "      <th>0</th>\n",
       "      <td>zone2</td>\n",
       "      <td>RVIII</td>\n",
       "      <td>2022-06-16 09:50:39</td>\n",
       "      <td>2.222636</td>\n",
       "      <td>0.705487</td>\n",
       "      <td>0.770496</td>\n",
       "    </tr>\n",
       "    <tr>\n",
       "      <th>1</th>\n",
       "      <td>zone2</td>\n",
       "      <td>RVIII</td>\n",
       "      <td>2022-06-19 10:00:29</td>\n",
       "      <td>3.105431</td>\n",
       "      <td>0.808235</td>\n",
       "      <td>0.858640</td>\n",
       "    </tr>\n",
       "    <tr>\n",
       "      <th>0</th>\n",
       "      <td>zone3</td>\n",
       "      <td>RVIII</td>\n",
       "      <td>2022-06-16 09:50:39</td>\n",
       "      <td>1.715156</td>\n",
       "      <td>0.639349</td>\n",
       "      <td>0.729145</td>\n",
       "    </tr>\n",
       "    <tr>\n",
       "      <th>1</th>\n",
       "      <td>zone3</td>\n",
       "      <td>RVIII</td>\n",
       "      <td>2022-06-19 10:00:29</td>\n",
       "      <td>2.333325</td>\n",
       "      <td>0.734049</td>\n",
       "      <td>0.808563</td>\n",
       "    </tr>\n",
       "    <tr>\n",
       "      <th>0</th>\n",
       "      <td>zone4</td>\n",
       "      <td>RVIII</td>\n",
       "      <td>2022-06-16 09:50:39</td>\n",
       "      <td>0.958565</td>\n",
       "      <td>0.462900</td>\n",
       "      <td>0.530982</td>\n",
       "    </tr>\n",
       "    <tr>\n",
       "      <th>1</th>\n",
       "      <td>zone4</td>\n",
       "      <td>RVIII</td>\n",
       "      <td>2022-06-19 10:00:29</td>\n",
       "      <td>1.634634</td>\n",
       "      <td>0.607424</td>\n",
       "      <td>0.725991</td>\n",
       "    </tr>\n",
       "    <tr>\n",
       "      <th>0</th>\n",
       "      <td>zone5</td>\n",
       "      <td>RVIII</td>\n",
       "      <td>2022-06-16 09:50:39</td>\n",
       "      <td>1.280184</td>\n",
       "      <td>0.529718</td>\n",
       "      <td>0.565839</td>\n",
       "    </tr>\n",
       "    <tr>\n",
       "      <th>1</th>\n",
       "      <td>zone5</td>\n",
       "      <td>RVIII</td>\n",
       "      <td>2022-06-19 10:00:29</td>\n",
       "      <td>1.971820</td>\n",
       "      <td>0.661283</td>\n",
       "      <td>0.732615</td>\n",
       "    </tr>\n",
       "    <tr>\n",
       "      <th>0</th>\n",
       "      <td>zone6</td>\n",
       "      <td>RVIII</td>\n",
       "      <td>2022-06-16 09:50:39</td>\n",
       "      <td>2.608018</td>\n",
       "      <td>0.766683</td>\n",
       "      <td>0.793847</td>\n",
       "    </tr>\n",
       "    <tr>\n",
       "      <th>1</th>\n",
       "      <td>zone6</td>\n",
       "      <td>RVIII</td>\n",
       "      <td>2022-06-19 10:00:29</td>\n",
       "      <td>3.164184</td>\n",
       "      <td>0.827222</td>\n",
       "      <td>0.854040</td>\n",
       "    </tr>\n",
       "    <tr>\n",
       "      <th>0</th>\n",
       "      <td>zone7</td>\n",
       "      <td>RVIII</td>\n",
       "      <td>2022-06-16 09:50:39</td>\n",
       "      <td>1.175577</td>\n",
       "      <td>0.523478</td>\n",
       "      <td>0.609460</td>\n",
       "    </tr>\n",
       "    <tr>\n",
       "      <th>1</th>\n",
       "      <td>zone7</td>\n",
       "      <td>RVIII</td>\n",
       "      <td>2022-06-19 10:00:29</td>\n",
       "      <td>1.944123</td>\n",
       "      <td>0.665729</td>\n",
       "      <td>0.786716</td>\n",
       "    </tr>\n",
       "    <tr>\n",
       "      <th>0</th>\n",
       "      <td>zone8</td>\n",
       "      <td>RVIII</td>\n",
       "      <td>2022-06-16 09:50:39</td>\n",
       "      <td>1.276348</td>\n",
       "      <td>0.542855</td>\n",
       "      <td>0.613898</td>\n",
       "    </tr>\n",
       "    <tr>\n",
       "      <th>1</th>\n",
       "      <td>zone8</td>\n",
       "      <td>RVIII</td>\n",
       "      <td>2022-06-19 10:00:29</td>\n",
       "      <td>2.071555</td>\n",
       "      <td>0.685254</td>\n",
       "      <td>0.787083</td>\n",
       "    </tr>\n",
       "    <tr>\n",
       "      <th>0</th>\n",
       "      <td>zone9</td>\n",
       "      <td>RVIII</td>\n",
       "      <td>2022-06-16 09:50:39</td>\n",
       "      <td>1.130594</td>\n",
       "      <td>0.515694</td>\n",
       "      <td>0.576184</td>\n",
       "    </tr>\n",
       "    <tr>\n",
       "      <th>1</th>\n",
       "      <td>zone9</td>\n",
       "      <td>RVIII</td>\n",
       "      <td>2022-06-19 10:00:29</td>\n",
       "      <td>1.896294</td>\n",
       "      <td>0.657509</td>\n",
       "      <td>0.766954</td>\n",
       "    </tr>\n",
       "    <tr>\n",
       "      <th>0</th>\n",
       "      <td>zone10</td>\n",
       "      <td>RVIII</td>\n",
       "      <td>2022-06-16 09:50:39</td>\n",
       "      <td>1.478896</td>\n",
       "      <td>0.592430</td>\n",
       "      <td>0.671717</td>\n",
       "    </tr>\n",
       "    <tr>\n",
       "      <th>1</th>\n",
       "      <td>zone10</td>\n",
       "      <td>RVIII</td>\n",
       "      <td>2022-06-19 10:00:29</td>\n",
       "      <td>2.297916</td>\n",
       "      <td>0.728417</td>\n",
       "      <td>0.829107</td>\n",
       "    </tr>\n",
       "    <tr>\n",
       "      <th>0</th>\n",
       "      <td>zone11</td>\n",
       "      <td>RVIII</td>\n",
       "      <td>2022-06-16 09:50:39</td>\n",
       "      <td>1.195114</td>\n",
       "      <td>0.502495</td>\n",
       "      <td>0.524019</td>\n",
       "    </tr>\n",
       "    <tr>\n",
       "      <th>1</th>\n",
       "      <td>zone11</td>\n",
       "      <td>RVIII</td>\n",
       "      <td>2022-06-19 10:00:29</td>\n",
       "      <td>1.930850</td>\n",
       "      <td>0.643681</td>\n",
       "      <td>0.730773</td>\n",
       "    </tr>\n",
       "  </tbody>\n",
       "</table>\n",
       "</div>"
      ],
      "text/plain": [
       "     zone field_name                time       LAI     FAPAR      NDVI\n",
       "0   zone0      RVIII 2022-06-16 09:50:39  0.805519  0.427770  0.479291\n",
       "1   zone0      RVIII 2022-06-19 10:00:29  1.489500  0.592080  0.685660\n",
       "0   zone1      RVIII 2022-06-16 09:50:39  1.255927  0.533719  0.628092\n",
       "1   zone1      RVIII 2022-06-19 10:00:29  2.022422  0.676885  0.800882\n",
       "0   zone2      RVIII 2022-06-16 09:50:39  2.222636  0.705487  0.770496\n",
       "1   zone2      RVIII 2022-06-19 10:00:29  3.105431  0.808235  0.858640\n",
       "0   zone3      RVIII 2022-06-16 09:50:39  1.715156  0.639349  0.729145\n",
       "1   zone3      RVIII 2022-06-19 10:00:29  2.333325  0.734049  0.808563\n",
       "0   zone4      RVIII 2022-06-16 09:50:39  0.958565  0.462900  0.530982\n",
       "1   zone4      RVIII 2022-06-19 10:00:29  1.634634  0.607424  0.725991\n",
       "0   zone5      RVIII 2022-06-16 09:50:39  1.280184  0.529718  0.565839\n",
       "1   zone5      RVIII 2022-06-19 10:00:29  1.971820  0.661283  0.732615\n",
       "0   zone6      RVIII 2022-06-16 09:50:39  2.608018  0.766683  0.793847\n",
       "1   zone6      RVIII 2022-06-19 10:00:29  3.164184  0.827222  0.854040\n",
       "0   zone7      RVIII 2022-06-16 09:50:39  1.175577  0.523478  0.609460\n",
       "1   zone7      RVIII 2022-06-19 10:00:29  1.944123  0.665729  0.786716\n",
       "0   zone8      RVIII 2022-06-16 09:50:39  1.276348  0.542855  0.613898\n",
       "1   zone8      RVIII 2022-06-19 10:00:29  2.071555  0.685254  0.787083\n",
       "0   zone9      RVIII 2022-06-16 09:50:39  1.130594  0.515694  0.576184\n",
       "1   zone9      RVIII 2022-06-19 10:00:29  1.896294  0.657509  0.766954\n",
       "0  zone10      RVIII 2022-06-16 09:50:39  1.478896  0.592430  0.671717\n",
       "1  zone10      RVIII 2022-06-19 10:00:29  2.297916  0.728417  0.829107\n",
       "0  zone11      RVIII 2022-06-16 09:50:39  1.195114  0.502495  0.524019\n",
       "1  zone11      RVIII 2022-06-19 10:00:29  1.930850  0.643681  0.730773"
      ]
     },
     "execution_count": 10,
     "metadata": {},
     "output_type": "execute_result"
    }
   ],
   "source": [
    "# Indices by zones\n",
    "s2.zone_indices()"
   ]
  },
  {
   "cell_type": "code",
   "execution_count": 8,
   "metadata": {},
   "outputs": [
    {
     "data": {
      "text/plain": [
       "<matplotlib.collections.QuadMesh at 0x24e4e0bfc40>"
      ]
     },
     "execution_count": 8,
     "metadata": {},
     "output_type": "execute_result"
    },
    {
     "data": {
      "image/png": "[encoded data removed]",
      "text/plain": [
       "<Figure size 432x288 with 2 Axes>"
      ]
     },
     "metadata": {
      "needs_background": "light"
     },
     "output_type": "display_data"
    }
   ],
   "source": [
    "s2.zone_data[\"zone0\"].band_data[0,0,:,:].plot()"
   ]
  }
 ],
 "metadata": {
  "kernelspec": {
   "display_name": "Python 3 (ipykernel)",
   "language": "python",
   "name": "python3"
  },
  "language_info": {
   "codemirror_mode": {
    "name": "ipython",
    "version": 3
   },
   "file_extension": ".py",
   "mimetype": "text/x-python",
   "name": "python",
   "nbconvert_exporter": "python",
   "pygments_lexer": "ipython3",
   "version": "3.9.13"
  }
 },
 "nbformat": 4,
 "nbformat_minor": 4
}
