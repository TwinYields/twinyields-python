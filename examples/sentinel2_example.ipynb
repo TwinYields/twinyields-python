{
 "cells": [
  {
   "cell_type": "markdown",
   "metadata": {},
   "source": [
    "# Example of getting Sentinel2 data\n",
    "\n",
    "Example gets field information from database, retrieves Sentinel 2 images and calculates vegetation indices for each zone"
   ]
  },
  {
   "cell_type": "code",
   "execution_count": 1,
   "metadata": {
    "tags": []
   },
   "outputs": [],
   "source": [
    "import sys\n",
    "sys.path.append(\"..\")\n",
    "from twinyields.eo import Sentinel2\n",
    "from twinyields.database import TwinDataBase"
   ]
  },
  {
   "cell_type": "markdown",
   "metadata": {
    "jupyter": {
     "outputs_hidden": false
    },
    "pycharm": {
     "name": "#%%\n"
    }
   },
   "source": [
    "### Get field and zones"
   ]
  },
  {
   "cell_type": "code",
   "execution_count": 2,
   "metadata": {},
   "outputs": [
    {
     "data": {
      "text/plain": [
       "<AxesSubplot:>"
      ]
     },
     "execution_count": 2,
     "metadata": {},
     "output_type": "execute_result"
    },
    {
     "data": {
      "image/png": "[encoded data removed]",
      "text/plain": [
       "<Figure size 432x288 with 1 Axes>"
      ]
     },
     "metadata": {
      "needs_background": "light"
     },
     "output_type": "display_data"
    }
   ],
   "source": [
    "db = TwinDataBase()\n",
    "field, zones = db.get_field()\n",
    "zones.plot(column=\"zone\")"
   ]
  },
  {
   "cell_type": "markdown",
   "metadata": {},
   "source": [
    "### Download and process S2 data"
   ]
  },
  {
   "cell_type": "code",
   "execution_count": 3,
   "metadata": {},
   "outputs": [
    {
     "name": "stdout",
     "output_type": "stream",
     "text": [
      "Searching S2 data from 2022-06-15 to 2022-06-23 for area RVIII\n",
      "Found 6 available S2 acquisition dates.\n",
      "Retrieving S2 data...\n",
      "2 good observations available. Retrieving data...\n",
      "Retrieving band data for item S2B_34VFN_20220619_0_L2A\n",
      "Retrieving band data for item S2B_34VFN_20220616_0_L2A\n",
      "CPU times: user 5.47 s, sys: 1.15 s, total: 6.62 s\n",
      "Wall time: 2min 20s\n"
     ]
    }
   ],
   "source": [
    "%%time\n",
    "startdate = \"2022-06-15\"\n",
    "enddate = \"2022-06-23\"\n",
    "s2 = Sentinel2()\n",
    "# Get satellite data for whole field\n",
    "s2.get_data(field, startdate, enddate) "
   ]
  },
  {
   "cell_type": "code",
   "execution_count": 4,
   "metadata": {},
   "outputs": [
    {
     "name": "stdout",
     "output_type": "stream",
     "text": [
      "Processing zone0\n",
      "Processing zone1\n",
      "Processing zone2\n",
      "Processing zone3\n",
      "Processing zone4\n",
      "Processing zone5\n",
      "Processing zone6\n",
      "Processing zone7\n",
      "Processing zone8\n",
      "Processing zone9\n",
      "Processing zone10\n",
      "Processing zone11\n",
      "CPU times: user 1.62 s, sys: 147 ms, total: 1.76 s\n",
      "Wall time: 1.58 s\n"
     ]
    }
   ],
   "source": [
    "%%time\n",
    "# Extract zones\n",
    "s2.get_zones(zones)"
   ]
  },
  {
   "cell_type": "code",
   "execution_count": 5,
   "metadata": {},
   "outputs": [
    {
     "data": {
      "text/html": [
       "<div>\n",
       "<style scoped>\n",
       "    .dataframe tbody tr th:only-of-type {\n",
       "        vertical-align: middle;\n",
       "    }\n",
       "\n",
       "    .dataframe tbody tr th {\n",
       "        vertical-align: top;\n",
       "    }\n",
       "\n",
       "    .dataframe thead th {\n",
       "        text-align: right;\n",
       "    }\n",
       "</style>\n",
       "<table border=\"1\" class=\"dataframe\">\n",
       "  <thead>\n",
       "    <tr style=\"text-align: right;\">\n",
       "      <th></th>\n",
       "      <th>zone</th>\n",
       "      <th>field_name</th>\n",
       "      <th>time</th>\n",
       "      <th>LAI</th>\n",
       "      <th>FAPAR</th>\n",
       "      <th>NDVI</th>\n",
       "    </tr>\n",
       "  </thead>\n",
       "  <tbody>\n",
       "    <tr>\n",
       "      <th>0</th>\n",
       "      <td>zone0</td>\n",
       "      <td>RVIII</td>\n",
       "      <td>2022-06-16 09:50:39</td>\n",
       "      <td>0.807113</td>\n",
       "      <td>0.430419</td>\n",
       "      <td>0.481839</td>\n",
       "    </tr>\n",
       "    <tr>\n",
       "      <th>1</th>\n",
       "      <td>zone0</td>\n",
       "      <td>RVIII</td>\n",
       "      <td>2022-06-19 10:00:29</td>\n",
       "      <td>1.492299</td>\n",
       "      <td>0.594902</td>\n",
       "      <td>0.689516</td>\n",
       "    </tr>\n",
       "    <tr>\n",
       "      <th>0</th>\n",
       "      <td>zone1</td>\n",
       "      <td>RVIII</td>\n",
       "      <td>2022-06-16 09:50:39</td>\n",
       "      <td>1.328185</td>\n",
       "      <td>0.551638</td>\n",
       "      <td>0.635397</td>\n",
       "    </tr>\n",
       "    <tr>\n",
       "      <th>1</th>\n",
       "      <td>zone1</td>\n",
       "      <td>RVIII</td>\n",
       "      <td>2022-06-19 10:00:29</td>\n",
       "      <td>2.148759</td>\n",
       "      <td>0.697599</td>\n",
       "      <td>0.805294</td>\n",
       "    </tr>\n",
       "    <tr>\n",
       "      <th>0</th>\n",
       "      <td>zone2</td>\n",
       "      <td>RVIII</td>\n",
       "      <td>2022-06-16 09:50:39</td>\n",
       "      <td>2.222636</td>\n",
       "      <td>0.705487</td>\n",
       "      <td>0.770496</td>\n",
       "    </tr>\n",
       "    <tr>\n",
       "      <th>1</th>\n",
       "      <td>zone2</td>\n",
       "      <td>RVIII</td>\n",
       "      <td>2022-06-19 10:00:29</td>\n",
       "      <td>3.105431</td>\n",
       "      <td>0.808235</td>\n",
       "      <td>0.858640</td>\n",
       "    </tr>\n",
       "    <tr>\n",
       "      <th>0</th>\n",
       "      <td>zone3</td>\n",
       "      <td>RVIII</td>\n",
       "      <td>2022-06-16 09:50:39</td>\n",
       "      <td>1.716719</td>\n",
       "      <td>0.639285</td>\n",
       "      <td>0.728827</td>\n",
       "    </tr>\n",
       "    <tr>\n",
       "      <th>1</th>\n",
       "      <td>zone3</td>\n",
       "      <td>RVIII</td>\n",
       "      <td>2022-06-19 10:00:29</td>\n",
       "      <td>2.336783</td>\n",
       "      <td>0.734089</td>\n",
       "      <td>0.808432</td>\n",
       "    </tr>\n",
       "    <tr>\n",
       "      <th>0</th>\n",
       "      <td>zone4</td>\n",
       "      <td>RVIII</td>\n",
       "      <td>2022-06-16 09:50:39</td>\n",
       "      <td>0.966384</td>\n",
       "      <td>0.467353</td>\n",
       "      <td>0.532242</td>\n",
       "    </tr>\n",
       "    <tr>\n",
       "      <th>1</th>\n",
       "      <td>zone4</td>\n",
       "      <td>RVIII</td>\n",
       "      <td>2022-06-19 10:00:29</td>\n",
       "      <td>1.705070</td>\n",
       "      <td>0.620225</td>\n",
       "      <td>0.733407</td>\n",
       "    </tr>\n",
       "    <tr>\n",
       "      <th>0</th>\n",
       "      <td>zone5</td>\n",
       "      <td>RVIII</td>\n",
       "      <td>2022-06-16 09:50:39</td>\n",
       "      <td>1.038550</td>\n",
       "      <td>0.477919</td>\n",
       "      <td>0.544427</td>\n",
       "    </tr>\n",
       "    <tr>\n",
       "      <th>1</th>\n",
       "      <td>zone5</td>\n",
       "      <td>RVIII</td>\n",
       "      <td>2022-06-19 10:00:29</td>\n",
       "      <td>1.678688</td>\n",
       "      <td>0.617494</td>\n",
       "      <td>0.716300</td>\n",
       "    </tr>\n",
       "    <tr>\n",
       "      <th>0</th>\n",
       "      <td>zone6</td>\n",
       "      <td>RVIII</td>\n",
       "      <td>2022-06-16 09:50:39</td>\n",
       "      <td>2.022309</td>\n",
       "      <td>0.680270</td>\n",
       "      <td>0.767899</td>\n",
       "    </tr>\n",
       "    <tr>\n",
       "      <th>1</th>\n",
       "      <td>zone6</td>\n",
       "      <td>RVIII</td>\n",
       "      <td>2022-06-19 10:00:29</td>\n",
       "      <td>2.591905</td>\n",
       "      <td>0.762901</td>\n",
       "      <td>0.831374</td>\n",
       "    </tr>\n",
       "    <tr>\n",
       "      <th>0</th>\n",
       "      <td>zone7</td>\n",
       "      <td>RVIII</td>\n",
       "      <td>2022-06-16 09:50:39</td>\n",
       "      <td>1.232624</td>\n",
       "      <td>0.538150</td>\n",
       "      <td>0.615239</td>\n",
       "    </tr>\n",
       "    <tr>\n",
       "      <th>1</th>\n",
       "      <td>zone7</td>\n",
       "      <td>RVIII</td>\n",
       "      <td>2022-06-19 10:00:29</td>\n",
       "      <td>2.023204</td>\n",
       "      <td>0.680396</td>\n",
       "      <td>0.790781</td>\n",
       "    </tr>\n",
       "    <tr>\n",
       "      <th>0</th>\n",
       "      <td>zone8</td>\n",
       "      <td>RVIII</td>\n",
       "      <td>2022-06-16 09:50:39</td>\n",
       "      <td>1.295096</td>\n",
       "      <td>0.547348</td>\n",
       "      <td>0.615250</td>\n",
       "    </tr>\n",
       "    <tr>\n",
       "      <th>1</th>\n",
       "      <td>zone8</td>\n",
       "      <td>RVIII</td>\n",
       "      <td>2022-06-19 10:00:29</td>\n",
       "      <td>2.092647</td>\n",
       "      <td>0.689097</td>\n",
       "      <td>0.788479</td>\n",
       "    </tr>\n",
       "    <tr>\n",
       "      <th>0</th>\n",
       "      <td>zone9</td>\n",
       "      <td>RVIII</td>\n",
       "      <td>2022-06-16 09:50:39</td>\n",
       "      <td>1.095811</td>\n",
       "      <td>0.504520</td>\n",
       "      <td>0.570751</td>\n",
       "    </tr>\n",
       "    <tr>\n",
       "      <th>1</th>\n",
       "      <td>zone9</td>\n",
       "      <td>RVIII</td>\n",
       "      <td>2022-06-19 10:00:29</td>\n",
       "      <td>1.864900</td>\n",
       "      <td>0.649980</td>\n",
       "      <td>0.761353</td>\n",
       "    </tr>\n",
       "    <tr>\n",
       "      <th>0</th>\n",
       "      <td>zone10</td>\n",
       "      <td>RVIII</td>\n",
       "      <td>2022-06-16 09:50:39</td>\n",
       "      <td>1.480075</td>\n",
       "      <td>0.592719</td>\n",
       "      <td>0.671891</td>\n",
       "    </tr>\n",
       "    <tr>\n",
       "      <th>1</th>\n",
       "      <td>zone10</td>\n",
       "      <td>RVIII</td>\n",
       "      <td>2022-06-19 10:00:29</td>\n",
       "      <td>2.299473</td>\n",
       "      <td>0.728748</td>\n",
       "      <td>0.829248</td>\n",
       "    </tr>\n",
       "    <tr>\n",
       "      <th>0</th>\n",
       "      <td>zone11</td>\n",
       "      <td>RVIII</td>\n",
       "      <td>2022-06-16 09:50:39</td>\n",
       "      <td>0.922341</td>\n",
       "      <td>0.438678</td>\n",
       "      <td>0.509290</td>\n",
       "    </tr>\n",
       "    <tr>\n",
       "      <th>1</th>\n",
       "      <td>zone11</td>\n",
       "      <td>RVIII</td>\n",
       "      <td>2022-06-19 10:00:29</td>\n",
       "      <td>1.670063</td>\n",
       "      <td>0.599165</td>\n",
       "      <td>0.716988</td>\n",
       "    </tr>\n",
       "  </tbody>\n",
       "</table>\n",
       "</div>"
      ],
      "text/plain": [
       "     zone field_name                time       LAI     FAPAR      NDVI\n",
       "0   zone0      RVIII 2022-06-16 09:50:39  0.807113  0.430419  0.481839\n",
       "1   zone0      RVIII 2022-06-19 10:00:29  1.492299  0.594902  0.689516\n",
       "0   zone1      RVIII 2022-06-16 09:50:39  1.328185  0.551638  0.635397\n",
       "1   zone1      RVIII 2022-06-19 10:00:29  2.148759  0.697599  0.805294\n",
       "0   zone2      RVIII 2022-06-16 09:50:39  2.222636  0.705487  0.770496\n",
       "1   zone2      RVIII 2022-06-19 10:00:29  3.105431  0.808235  0.858640\n",
       "0   zone3      RVIII 2022-06-16 09:50:39  1.716719  0.639285  0.728827\n",
       "1   zone3      RVIII 2022-06-19 10:00:29  2.336783  0.734089  0.808432\n",
       "0   zone4      RVIII 2022-06-16 09:50:39  0.966384  0.467353  0.532242\n",
       "1   zone4      RVIII 2022-06-19 10:00:29  1.705070  0.620225  0.733407\n",
       "0   zone5      RVIII 2022-06-16 09:50:39  1.038550  0.477919  0.544427\n",
       "1   zone5      RVIII 2022-06-19 10:00:29  1.678688  0.617494  0.716300\n",
       "0   zone6      RVIII 2022-06-16 09:50:39  2.022309  0.680270  0.767899\n",
       "1   zone6      RVIII 2022-06-19 10:00:29  2.591905  0.762901  0.831374\n",
       "0   zone7      RVIII 2022-06-16 09:50:39  1.232624  0.538150  0.615239\n",
       "1   zone7      RVIII 2022-06-19 10:00:29  2.023204  0.680396  0.790781\n",
       "0   zone8      RVIII 2022-06-16 09:50:39  1.295096  0.547348  0.615250\n",
       "1   zone8      RVIII 2022-06-19 10:00:29  2.092647  0.689097  0.788479\n",
       "0   zone9      RVIII 2022-06-16 09:50:39  1.095811  0.504520  0.570751\n",
       "1   zone9      RVIII 2022-06-19 10:00:29  1.864900  0.649980  0.761353\n",
       "0  zone10      RVIII 2022-06-16 09:50:39  1.480075  0.592719  0.671891\n",
       "1  zone10      RVIII 2022-06-19 10:00:29  2.299473  0.728748  0.829248\n",
       "0  zone11      RVIII 2022-06-16 09:50:39  0.922341  0.438678  0.509290\n",
       "1  zone11      RVIII 2022-06-19 10:00:29  1.670063  0.599165  0.716988"
      ]
     },
     "execution_count": 5,
     "metadata": {},
     "output_type": "execute_result"
    }
   ],
   "source": [
    "# Indices by zones\n",
    "s2.zone_indices()"
   ]
  },
  {
   "cell_type": "code",
   "execution_count": 6,
   "metadata": {},
   "outputs": [
    {
     "data": {
      "text/plain": [
       "<matplotlib.collections.QuadMesh at 0x7fccdc215190>"
      ]
     },
     "execution_count": 6,
     "metadata": {},
     "output_type": "execute_result"
    },
    {
     "data": {
      "image/png": "[encoded data removed]",
      "text/plain": [
       "<Figure size 432x288 with 2 Axes>"
      ]
     },
     "metadata": {
      "needs_background": "light"
     },
     "output_type": "display_data"
    }
   ],
   "source": [
    "s2.zone_data[\"zone0\"].band_data[0,0,:,:].plot()"
   ]
  },
  {
   "cell_type": "markdown",
   "metadata": {},
   "source": [
    "### Save and check rasters"
   ]
  },
  {
   "cell_type": "code",
   "execution_count": 7,
   "metadata": {},
   "outputs": [],
   "source": [
    "rfiles = s2.to_rasters(\"rasters/sentinel2\")"
   ]
  },
  {
   "cell_type": "code",
   "execution_count": 10,
   "metadata": {},
   "outputs": [
    {
     "data": {
      "image/png": "[encoded data removed]",
      "text/plain": [
       "<Figure size 432x288 with 1 Axes>"
      ]
     },
     "metadata": {
      "needs_background": "light"
     },
     "output_type": "display_data"
    }
   ],
   "source": [
    "import rasterio\n",
    "r = rasterio.open(rfiles[-1])\n",
    "rasterio.plot.show(r.read(11), transform=r.transform)\n",
    "r.close()"
   ]
  }
 ],
 "metadata": {
  "kernelspec": {
   "display_name": "Python 3 (ipykernel)",
   "language": "python",
   "name": "python3"
  },
  "language_info": {
   "codemirror_mode": {
    "name": "ipython",
    "version": 3
   },
   "file_extension": ".py",
   "mimetype": "text/x-python",
   "name": "python",
   "nbconvert_exporter": "python",
   "pygments_lexer": "ipython3",
   "version": "3.9.12"
  }
 },
 "nbformat": 4,
 "nbformat_minor": 4
}
